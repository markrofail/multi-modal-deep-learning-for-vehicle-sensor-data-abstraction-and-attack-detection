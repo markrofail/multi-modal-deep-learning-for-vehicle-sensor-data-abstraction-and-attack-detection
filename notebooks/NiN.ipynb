{
 "cells": [
  {
   "cell_type": "code",
   "execution_count": null,
   "metadata": {
    "collapsed": false,
    "deletable": true,
    "editable": true
   },
   "outputs": [],
   "source": [
    "import tensorflow as tf"
   ]
  },
  {
   "cell_type": "code",
   "execution_count": null,
   "metadata": {
    "collapsed": true
   },
   "outputs": [],
   "source": [
    "def test_layers_nin(layers_nin):\n",
    "    with tf.Graph().as_default():\n",
    "        test_input = tf.placeholder(tf.float32, (None, 32,32,3), name='input_real')\n",
    "        test_kernel_size = 11\n",
    "        test_feature_channels = 94\n",
    "        test_padding = 'VALID'\n",
    "\n",
    "        cnn_output = tf.layers.conv2d(inputs=test_input, filters=test_feature_channels, kernel_size=[test_kernel_size, test_kernel_size], padding=test_padding, activation=tf.nn.relu)\n",
    "        nin_output = layers_nin(test_input, test_kernel_size, test_feature_channels, test_padding)\n",
    "\n",
    "        # Check that NiN doesn't change ouput shape\n",
    "        assert cnn_output.shape.as_list() == nin_output.shape.as_list(),\\\n",
    "            'CNN and NiN shapes donot match that means that NiN was not implemented correctley' \\\n",
    "            'CNN shape {}. NiN shape {}'.format(cnn_output.shape, nin_output.shape)\n",
    "    print('Tests Passed')"
   ]
  },
  {
   "cell_type": "code",
   "execution_count": null,
   "metadata": {
    "collapsed": false
   },
   "outputs": [],
   "source": [
    "def layers_nin(inputs, kernel_size, feature_channels, padding):\n",
    "    \"\"\"\n",
    "    Construct a Network in Network block as per description in the regnet paper\n",
    "    :param inputs: the input to the NiN block\n",
    "    :param kernel_size: the kernel size `k`\n",
    "    :param feature_channels: the number of feature channels\n",
    "    :param padding: the padding algorithm to be used\n",
    "    :return: the NiN blcok\n",
    "    \"\"\"\n",
    "    # first convlution layer\n",
    "    conv1 = tf.layers.conv2d(inputs=inputs, filters=feature_channels, kernel_size=[kernel_size, kernel_size], padding=padding, activation=tf.nn.relu, name='conv1')\n",
    "\n",
    "    # the mlpconv layers\n",
    "    cccp1 = tf.layers.conv2d(inputs=conv1 , filters=feature_channels, kernel_size=[1, 1], activation=tf.nn.relu, name='cccp1')\n",
    "    cccp2 = tf.layers.conv2d(inputs=cccp1 , filters=feature_channels, kernel_size=[1, 1], activation=tf.nn.relu, name='cccp2')\n",
    "    \n",
    "    return cccp2\n",
    "\n",
    "test_layers_nin(layers_nin)"
   ]
  }
 ],
 "metadata": {
  "kernelspec": {
   "display_name": "Python 3",
   "language": "python",
   "name": "python3"
  },
  "language_info": {
   "codemirror_mode": {
    "name": "ipython",
    "version": 3
   },
   "file_extension": ".py",
   "mimetype": "text/x-python",
   "name": "python",
   "nbconvert_exporter": "python",
   "pygments_lexer": "ipython3",
   "version": "3.6.4"
  }
 },
 "nbformat": 4,
 "nbformat_minor": 2
}
